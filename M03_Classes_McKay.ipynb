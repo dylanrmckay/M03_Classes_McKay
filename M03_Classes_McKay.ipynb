{
 "cells": [
  {
   "cell_type": "code",
   "execution_count": 40,
   "id": "f70c9dbb",
   "metadata": {
    "scrolled": true
   },
   "outputs": [
    {
     "name": "stdout",
     "output_type": "stream",
     "text": [
      "Enter vehicle type: car\n"
     ]
    }
   ],
   "source": [
    "class Vehicle:\n",
    "    def __init__(self):\n",
    "        type = input(\"Enter vehicle type: \")\n",
    "        self.type = type\n",
    "        \n",
    "myVehicle = Vehicle()"
   ]
  },
  {
   "cell_type": "code",
   "execution_count": 45,
   "id": "f0e038ba",
   "metadata": {},
   "outputs": [],
   "source": [
    "class Automobile(Vehicle):\n",
    "    def __init__(self):\n",
    "        year = input(\"Enter vehicle year: \")\n",
    "        make = input(\"Enter vehicle make: \")\n",
    "        model = input(\"Enter vehicle model: \")\n",
    "        doors = input(\"Enter number of vehicle doors: \")\n",
    "        roof = input(\"Enter roof type (solid or sunroof): \")\n",
    "        self.year = year\n",
    "        self.make = make\n",
    "        self.model = model\n",
    "        self.doors = doors\n",
    "        self.roof = roof\n",
    "    \n",
    "    def info(self):\n",
    "        print(f\"Vehicle type: {myVehicle.type}\")\n",
    "        print(f\"Year: {self.year}\")\n",
    "        print(f\"Make: {self.make}\")\n",
    "        print(f\"Model: {self.model}\")\n",
    "        print(f\"Number of doors: {self.doors}\")\n",
    "        print(f\"Type of roof: {self.roof} \")"
   ]
  },
  {
   "cell_type": "code",
   "execution_count": 46,
   "id": "4877f2da",
   "metadata": {
    "scrolled": true
   },
   "outputs": [
    {
     "name": "stdout",
     "output_type": "stream",
     "text": [
      "Enter vehicle year: 2013\n",
      "Enter vehicle make: Dodge\n",
      "Enter vehicle model: Dart\n",
      "Enter number of vehicle doors: 4\n",
      "Enter roof type (solid or sunroof): solid\n"
     ]
    }
   ],
   "source": [
    "myCar = Automobile()"
   ]
  },
  {
   "cell_type": "code",
   "execution_count": 47,
   "id": "dd01b67a",
   "metadata": {
    "scrolled": true
   },
   "outputs": [
    {
     "name": "stdout",
     "output_type": "stream",
     "text": [
      "Vehicle type: car\n",
      "Year: 2013\n",
      "Make: Dodge\n",
      "Model: Dart\n",
      "Number of doors: 4\n",
      "Type of roof: solid \n"
     ]
    }
   ],
   "source": [
    "myCar.info()"
   ]
  },
  {
   "cell_type": "code",
   "execution_count": null,
   "id": "4a135779",
   "metadata": {},
   "outputs": [],
   "source": []
  }
 ],
 "metadata": {
  "kernelspec": {
   "display_name": "Python 3 (ipykernel)",
   "language": "python",
   "name": "python3"
  },
  "language_info": {
   "codemirror_mode": {
    "name": "ipython",
    "version": 3
   },
   "file_extension": ".py",
   "mimetype": "text/x-python",
   "name": "python",
   "nbconvert_exporter": "python",
   "pygments_lexer": "ipython3",
   "version": "3.11.4"
  }
 },
 "nbformat": 4,
 "nbformat_minor": 5
}
